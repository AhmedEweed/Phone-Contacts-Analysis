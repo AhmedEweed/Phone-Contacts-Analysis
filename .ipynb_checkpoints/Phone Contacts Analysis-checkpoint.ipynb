{
 "cells": [
  {
   "cell_type": "markdown",
   "metadata": {},
   "source": [
    "# Introduction\n",
    "\n",
    "I was curious which Network provider numbers exist the most in my phone conatcts log  \n",
    "\n",
    "So, i ran this analysis to find out and decide which phone call bundle should i pick!"
   ]
  },
  {
   "cell_type": "code",
   "execution_count": 55,
   "metadata": {},
   "outputs": [],
   "source": [
    "# import pandas for dataframe operations \n",
    "\n",
    "import pandas as pd\n",
    "\n",
    "#import matplotlib for visualizing results\n",
    "\n",
    "import matplotlib.pyplot as plt"
   ]
  },
  {
   "cell_type": "code",
   "execution_count": 56,
   "metadata": {},
   "outputs": [],
   "source": [
    "# reading phone contacts as csv file\n",
    "\n",
    "contacts = pd.read_csv('Phone Contacts.csv')"
   ]
  },
  {
   "cell_type": "code",
   "execution_count": 57,
   "metadata": {
    "scrolled": false
   },
   "outputs": [
    {
     "data": {
      "text/html": [
       "<div>\n",
       "<style scoped>\n",
       "    .dataframe tbody tr th:only-of-type {\n",
       "        vertical-align: middle;\n",
       "    }\n",
       "\n",
       "    .dataframe tbody tr th {\n",
       "        vertical-align: top;\n",
       "    }\n",
       "\n",
       "    .dataframe thead th {\n",
       "        text-align: right;\n",
       "    }\n",
       "</style>\n",
       "<table border=\"1\" class=\"dataframe\">\n",
       "  <thead>\n",
       "    <tr style=\"text-align: right;\">\n",
       "      <th></th>\n",
       "      <th>Phone Number</th>\n",
       "    </tr>\n",
       "  </thead>\n",
       "  <tbody>\n",
       "    <tr>\n",
       "      <th>0</th>\n",
       "      <td>'0102083</td>\n",
       "    </tr>\n",
       "    <tr>\n",
       "      <th>1</th>\n",
       "      <td>'0100888</td>\n",
       "    </tr>\n",
       "    <tr>\n",
       "      <th>2</th>\n",
       "      <td>'0100126</td>\n",
       "    </tr>\n",
       "    <tr>\n",
       "      <th>3</th>\n",
       "      <td>'0128762</td>\n",
       "    </tr>\n",
       "    <tr>\n",
       "      <th>4</th>\n",
       "      <td>'0106075</td>\n",
       "    </tr>\n",
       "  </tbody>\n",
       "</table>\n",
       "</div>"
      ],
      "text/plain": [
       "  Phone Number\n",
       "0     '0102083\n",
       "1     '0100888\n",
       "2     '0100126\n",
       "3     '0128762\n",
       "4     '0106075"
      ]
     },
     "execution_count": 57,
     "metadata": {},
     "output_type": "execute_result"
    }
   ],
   "source": [
    "# displaying the dataframe\n",
    "\n",
    "contacts.head()"
   ]
  },
  {
   "cell_type": "code",
   "execution_count": 63,
   "metadata": {},
   "outputs": [],
   "source": [
    "# dividing the contacts numbers to the known providers in my country\n",
    "# recognize each provider by the third digit in the phone number\n",
    "\n",
    "voda = []\n",
    "eti = []\n",
    "mob = []\n",
    "other = []\n",
    "for i in range(len(contacts)-1):\n",
    "    if contacts['Phone Number'][i][3] == '0':\n",
    "        voda.append(contacts['Phone Number'][i])\n",
    "    elif contacts['Phone Number'][i][3] == '1':\n",
    "        eti.append(contacts['Phone Number'][i])\n",
    "    elif contacts['Phone Number'][i][3] == '2':\n",
    "        mob.append(contacts['Phone Number'][i])\n",
    "    else:\n",
    "        other.append(contacts['Phone Number'][i])\n",
    "        "
   ]
  },
  {
   "cell_type": "code",
   "execution_count": 64,
   "metadata": {},
   "outputs": [
    {
     "data": {
      "image/png": "[encoded data removed]",
      "text/plain": [
       "<matplotlib.figure.Figure at 0x7f81db64ef60>"
      ]
     },
     "metadata": {},
     "output_type": "display_data"
    }
   ],
   "source": [
    "# Plotting the results to see which service provider exists the most!\n",
    "\n",
    "%matplotlib inline\n",
    "\n",
    "labels = 'Vodafone', 'Etisalat', 'Mobinil', 'Other'\n",
    "sizes = [len(voda), len(eti), len(mob), len(other)]\n",
    "colors = ['red', 'yellowgreen', 'orange', 'purple']\n",
    "plt.pie(sizes, labels=labels, colors=colors,\n",
    "        autopct='%1.1f%%', shadow=True, startangle=140)\n",
    "plt.title(\"Phone Contact Numbers Analysis\")\n",
    "plt.show()"
   ]
  },
  {
   "cell_type": "markdown",
   "metadata": {
    "scrolled": false
   },
   "source": [
    "# Findings\n",
    "\n",
    "As I found above, Vodafone service providers has the biggest share of numbers on my phone!  \n",
    "\n",
    "So, i suppose a Vodafone call bundle will be suitable for me "
   ]
  }
 ],
 "metadata": {
  "kernelspec": {
   "display_name": "Python [default]",
   "language": "python",
   "name": "python3"
  },
  "language_info": {
   "codemirror_mode": {
    "name": "ipython",
    "version": 3
   },
   "file_extension": ".py",
   "mimetype": "text/x-python",
   "name": "python",
   "nbconvert_exporter": "python",
   "pygments_lexer": "ipython3",
   "version": "3.6.4"
  }
 },
 "nbformat": 4,
 "nbformat_minor": 2
}
